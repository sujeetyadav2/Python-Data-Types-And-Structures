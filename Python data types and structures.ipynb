{
 "cells": [
  {
   "cell_type": "markdown",
   "id": "f9e25c78-861f-47db-9d3f-d382ffcb7e45",
   "metadata": {},
   "source": [
    "   ## Theoritical question ##\n"
   ]
  },
  {
   "cell_type": "markdown",
   "id": "830448fc-c323-472a-84c8-b6e0e6b4d9aa",
   "metadata": {},
   "source": [
    "Que 1. What are data structures,and why they are important?\n",
    "Ans -  Data structure are ways to organize and store data efficiently for easy accsess and modification."
   ]
  },
  {
   "cell_type": "markdown",
   "id": "62e97f92-684e-4e87-95ea-5685eeb91497",
   "metadata": {},
   "source": [
    "Que 2. Expalin the difference between mutable and immutable data types with example?\n",
    "Ans -  Mutable (eg. list,dic)can be changed with creation. Immutable (eg.str,tuple) can't be changed with creation,they will be error."
   ]
  },
  {
   "cell_type": "markdown",
   "id": "ff4a034d-9a26-4d79-aa92-7951649b75ac",
   "metadata": {},
   "source": [
    "Que 3. Differince between lists and tuples in python & how dictionaries store data?\n",
    "Ans -  List are mutable and ordered, Tuple are immutable and ordered and dictionaries data store with key value paires using hash table."
   ]
  },
  {
   "cell_type": "markdown",
   "id": "f563edad-6dfb-4d8d-9945-54bfbf5e55a8",
   "metadata": {},
   "source": [
    "Que 4. Why use a set instead of a list in phython?\n",
    "Ans -  Set instead to remove duplicates and for faster membership checks."
   ]
  },
  {
   "cell_type": "markdown",
   "id": "71e4c604-dace-45bb-ae1e-5d4d3b6256b0",
   "metadata": {},
   "source": [
    "Que 5. What is a string in python ,and how is it different from a list?\n",
    "Ans -  A string is an immutable sequence of characters. A list is mutable and can hold any data type."
   ]
  },
  {
   "cell_type": "markdown",
   "id": "6e17fb61-11fd-474e-927a-0b4a586a74ff",
   "metadata": {},
   "source": [
    "Que 6. How do tuples ensure data integrity in python?\n",
    "Ans -  They are immutable, so values can not be modified after creation."
   ]
  },
  {
   "cell_type": "markdown",
   "id": "d39ca7c8-8894-4b73-afa3-7351541a5d95",
   "metadata": {},
   "source": [
    "Que 7. What is a hash table,and how it relate to dictionaries in python?\n",
    "Ans -  A hash table maps keys to values using a hash funtion.Dictionaries in python use this internally."
   ]
  },
  {
   "cell_type": "markdown",
   "id": "d85265ff-fb22-409a-96ea-29203163c9fc",
   "metadata": {},
   "source": [
    "Que 8. Can lists cantain diffirent data types in python?\n",
    "Ans -  Yes list can hold mixed data types like[1,'a', 3.14]."
   ]
  },
  {
   "cell_type": "markdown",
   "id": "722319b2-3a36-4828-8459-abfbfe6595da",
   "metadata": {},
   "source": [
    "Que 9. Expalin why strings are immutable in python?\n",
    "Ans -  Immutability makes strings secure, reliabe, and memory efficient."
   ]
  },
  {
   "cell_type": "markdown",
   "id": "0be85553-a3fd-4506-a8c2-50a6dfd5d4de",
   "metadata": {},
   "source": [
    "Que 10. What advantages do dictionaries offer over lists?\n",
    "Ans  -  Dictionaries provide faster key - based access and better structure for labled data."
   ]
  },
  {
   "cell_type": "markdown",
   "id": "711e2715-6549-44a2-be63-d19d88956700",
   "metadata": {},
   "source": [
    "Que 11. How do sets handle duplicate values in python?\n",
    "Ans  -  Sets are automatically discard duplicates."
   ]
  },
  {
   "cell_type": "markdown",
   "id": "06db5ac8-4291-4aad-9fb1-0503bcfc18cc",
   "metadata": {},
   "source": [
    "Que 12. When would you use a tuple instead of a list?\n",
    "Ans  -  When the data should not be modified,e.g.,fixed coordinates."
   ]
  },
  {
   "cell_type": "markdown",
   "id": "5a655711-d50f-41e7-aa59-d8963d818643",
   "metadata": {},
   "source": [
    "Que 13. How does the 'in' keyword differ for lists and dictionaries?\n",
    "Ans  -  'In' keyword checks values in lists and keys in dictionaries."
   ]
  },
  {
   "cell_type": "markdown",
   "id": "39113336-0119-4687-b23c-df6aed058e01",
   "metadata": {},
   "source": [
    "Que 14. Can you modify the elements of a tuple? Why or why not?\n",
    "Ans  -  Tuples are not modify because tuple are immutable."
   ]
  },
  {
   "cell_type": "markdown",
   "id": "41302e75-8b0a-4023-8ace-8b40a5cca940",
   "metadata": {},
   "source": [
    "Que 15. What is a nested dictionary?Example?\n",
    "Ans  -  Neasted dictionaries a dictionary inside another.Example: ['person':{'name':'sujeet','age':19}}"
   ]
  },
  {
   "cell_type": "markdown",
   "id": "868a79b2-46f5-4c60-ae2a-036404d53e75",
   "metadata": {},
   "source": [
    "Que 16. Time complexity of accessing dictionary elements?\n",
    "Ans  -  O(1) on average, due to hash-based lookups?"
   ]
  },
  {
   "cell_type": "markdown",
   "id": "dacdeaa9-4b81-41de-8e7c-6f0ab59e19d8",
   "metadata": {},
   "source": [
    "Que 17. When are list preferred over dictionaries?\n",
    "Ans  -  When order matters or when there are no key-value pairs."
   ]
  },
  {
   "cell_type": "markdown",
   "id": "98eef274-e969-41fc-b0f9-3773cb22e78e",
   "metadata": {},
   "source": [
    "Que 18. Why are dictionaries considered unordered?\n",
    "Ans  -  Before python 3.7, insertion order wasn't preserved."
   ]
  },
  {
   "cell_type": "markdown",
   "id": "ec6a930a-cc68-4453-ab77-1adb3acd0db8",
   "metadata": {},
   "source": [
    "Que 19. Difference between list and dictionary in data retrieval?\n",
    "Ans  -  Lists use index; dictionaries use key-based retrieval."
   ]
  },
  {
   "cell_type": "markdown",
   "id": "da16f36c-37d1-4847-8f7a-2312f022e975",
   "metadata": {},
   "source": [
    " ## practical questions ##"
   ]
  },
  {
   "cell_type": "code",
   "execution_count": 107,
   "id": "0f14ffd8-83dd-4ba4-8829-8b79fbaa9c88",
   "metadata": {},
   "outputs": [
    {
     "name": "stdout",
     "output_type": "stream",
     "text": [
      "sujeet\n"
     ]
    }
   ],
   "source": [
    "#Que 1. Create a string with your name and print it?\n",
    "name = \"sujeet\"\n",
    "print(name)"
   ]
  },
  {
   "cell_type": "code",
   "execution_count": 108,
   "id": "13a536c5-3fe0-4d0b-bcda-34f6bdb9e988",
   "metadata": {},
   "outputs": [
    {
     "name": "stdout",
     "output_type": "stream",
     "text": [
      "11\n",
      "10\n"
     ]
    }
   ],
   "source": [
    "#Que 2. Find the length of the string 'Hello World'?\n",
    "a = \"Hello World\"\n",
    "print(len(a))\n",
    "\n",
    "a = \"helloworld\" #give not space to give (len 10)\n",
    "print(len(a))"
   ]
  },
  {
   "cell_type": "code",
   "execution_count": 7,
   "id": "4487052c-d4f0-4d50-9e15-9db915683774",
   "metadata": {},
   "outputs": [
    {
     "name": "stdout",
     "output_type": "stream",
     "text": [
      "Pyt\n"
     ]
    }
   ],
   "source": [
    "#Que 3. Slince the first 3 characters from 'python programming'?\n",
    "a = \"Python programming\"\n",
    "print(a[:3])"
   ]
  },
  {
   "cell_type": "code",
   "execution_count": 15,
   "id": "f1de54be-acdf-4e47-a465-d185d468cf9e",
   "metadata": {},
   "outputs": [
    {
     "data": {
      "text/plain": [
       "'HELLO'"
      ]
     },
     "execution_count": 15,
     "metadata": {},
     "output_type": "execute_result"
    }
   ],
   "source": [
    "#Que 4. Convert 'hello' to uppercase?\n",
    "a = \"hello\"\n",
    "a.upper()"
   ]
  },
  {
   "cell_type": "code",
   "execution_count": 17,
   "id": "6a409111-4aa3-4ae7-a149-da568f6a31fa",
   "metadata": {},
   "outputs": [
    {
     "data": {
      "text/plain": [
       "'i like orange'"
      ]
     },
     "execution_count": 17,
     "metadata": {},
     "output_type": "execute_result"
    }
   ],
   "source": [
    "#Que 5. Replace 'apple' with 'orange'in 'i like apple'?\n",
    "like = \"i like apple\"\n",
    "like.replace(\"apple\",\"orange\")"
   ]
  },
  {
   "cell_type": "code",
   "execution_count": 22,
   "id": "addaacbc-4c15-49b4-8f78-529c3b30f0eb",
   "metadata": {},
   "outputs": [
    {
     "name": "stdout",
     "output_type": "stream",
     "text": [
      "(1, 2, 3, 4, 5)\n"
     ]
    }
   ],
   "source": [
    "#Que 6. Create a list with numbers 1 to 5?\n",
    "lst = (1,2,3,4,5,)\n",
    "print(lst)"
   ]
  },
  {
   "cell_type": "code",
   "execution_count": 109,
   "id": "3d7fad35-4a62-4423-ad1e-0d88a88a7824",
   "metadata": {},
   "outputs": [
    {
     "name": "stdout",
     "output_type": "stream",
     "text": [
      "[1, 2, 3, 4, 10]\n"
     ]
    }
   ],
   "source": [
    "#Que 7. Append 10 to the list [1,2,3,4]?\n",
    "num = [1,2,3,4]\n",
    "num.append(10)\n",
    "print(num)"
   ]
  },
  {
   "cell_type": "code",
   "execution_count": 110,
   "id": "5155a869-9668-45e4-94ea-f5d0e7cb22df",
   "metadata": {},
   "outputs": [
    {
     "name": "stdout",
     "output_type": "stream",
     "text": [
      "[1, 2, 4]\n"
     ]
    }
   ],
   "source": [
    "#Que 8. Remove 3 from [1,2,3,4,5]?\n",
    "lst = [1,2,3,4,]\n",
    "lst.remove(3)\n",
    "print(lst)"
   ]
  },
  {
   "cell_type": "code",
   "execution_count": 111,
   "id": "05644e0d-beb5-4fad-9777-c897a641f68d",
   "metadata": {},
   "outputs": [
    {
     "data": {
      "text/plain": [
       "'b'"
      ]
     },
     "execution_count": 111,
     "metadata": {},
     "output_type": "execute_result"
    }
   ],
   "source": [
    "#Que 9. Access the second element in ['a','b','c','d']?\n",
    "a = ['a','b','c','d']\n",
    "a[1]"
   ]
  },
  {
   "cell_type": "code",
   "execution_count": 112,
   "id": "e547159d-2c77-4a3f-b0a2-b175dced3d14",
   "metadata": {},
   "outputs": [
    {
     "name": "stdout",
     "output_type": "stream",
     "text": [
      "[50, 40, 30, 20, 10]\n"
     ]
    }
   ],
   "source": [
    "#Que 10. Reverse the list [10,20,30,40,50]?\n",
    "a = [10,20,30,40,50]\n",
    "print(a[::-1])"
   ]
  },
  {
   "cell_type": "code",
   "execution_count": 113,
   "id": "87c11730-155b-4c79-b3f0-e99ca7ffdbac",
   "metadata": {},
   "outputs": [
    {
     "data": {
      "text/plain": [
       "tuple"
      ]
     },
     "execution_count": 113,
     "metadata": {},
     "output_type": "execute_result"
    }
   ],
   "source": [
    "#Que 11. Create a tuple (100,200,300)?\n",
    "a = (100,200,300)\n",
    "type(a)"
   ]
  },
  {
   "cell_type": "code",
   "execution_count": 114,
   "id": "b343649f-84c7-47c0-ab5f-8c9544ab4b80",
   "metadata": {},
   "outputs": [
    {
     "name": "stdout",
     "output_type": "stream",
     "text": [
      "('green', 'blue', 'yellow')\n"
     ]
    }
   ],
   "source": [
    "#Que 12. Access second-to-last element of('red','green','blue',yellow')?\n",
    "colors = (\"red\",\"green\",\"blue\",\"yellow\")\n",
    "print(colors[1::])"
   ]
  },
  {
   "cell_type": "code",
   "execution_count": 115,
   "id": "ad757cbb-901f-4191-b9ea-c1e6bf759fb7",
   "metadata": {},
   "outputs": [
    {
     "name": "stdout",
     "output_type": "stream",
     "text": [
      "5\n"
     ]
    }
   ],
   "source": [
    "#Que 13. Find the minimum in (10,20,5,15)?\n",
    "num = [10,20,5,15]\n",
    "print(min(num))"
   ]
  },
  {
   "cell_type": "code",
   "execution_count": 116,
   "id": "48dd14f4-b92a-47ee-b4d2-2798c0c60c09",
   "metadata": {},
   "outputs": [
    {
     "data": {
      "text/plain": [
       "1"
      ]
     },
     "execution_count": 116,
     "metadata": {},
     "output_type": "execute_result"
    }
   ],
   "source": [
    "#Que 14. Find index of 'cat'in ('dog','cat','rabbit')?\n",
    "small_animal = (\"dog\",\"cat\",\"rabbit\")\n",
    "small_animal.index(\"cat\")"
   ]
  },
  {
   "cell_type": "code",
   "execution_count": 117,
   "id": "cd090fac-b01f-45ae-9c3f-9a7335404bca",
   "metadata": {},
   "outputs": [
    {
     "name": "stdout",
     "output_type": "stream",
     "text": [
      "True\n"
     ]
    }
   ],
   "source": [
    "#Que 15. Check if 'kivi'is in a tuple of fruits?\n",
    "fruits = (\"apple\",\"banana\",\"kivi\")\n",
    "print(\"kivi\" in fruits)"
   ]
  },
  {
   "cell_type": "code",
   "execution_count": 118,
   "id": "dc282a9f-6ce5-4183-8409-5699f1482466",
   "metadata": {},
   "outputs": [
    {
     "name": "stdout",
     "output_type": "stream",
     "text": [
      "{'a', 'b', 'c'}\n"
     ]
    }
   ],
   "source": [
    "#Que 16. Create and print set {'a','b','c'}?\n",
    "sets = {'a','b','c'}\n",
    "print(sets)"
   ]
  },
  {
   "cell_type": "code",
   "execution_count": 119,
   "id": "153ae3c9-bc02-43a5-aa23-321bf6fa9cf2",
   "metadata": {},
   "outputs": [],
   "source": [
    "#Que 17. Clear all elements from set {1,2,3,4,5}?\n",
    "s = {1,2,3,4,5}\n",
    "s.clear()"
   ]
  },
  {
   "cell_type": "code",
   "execution_count": 62,
   "id": "d8f44ddf-6113-48ce-994f-d7ba8d63a269",
   "metadata": {},
   "outputs": [
    {
     "name": "stdout",
     "output_type": "stream",
     "text": [
      "set()\n"
     ]
    }
   ],
   "source": [
    "print(s)"
   ]
  },
  {
   "cell_type": "code",
   "execution_count": 120,
   "id": "0e46be26-24aa-4405-b2d6-cb73d36140cd",
   "metadata": {},
   "outputs": [],
   "source": [
    "#Que 18. Remove 4 from set {1,2,3,4}?\n",
    "b = {1,2,3,4}\n",
    "b.remove(4)"
   ]
  },
  {
   "cell_type": "code",
   "execution_count": 64,
   "id": "4f2c5682-50da-4d0e-8d2f-1f0eed94d154",
   "metadata": {},
   "outputs": [
    {
     "name": "stdout",
     "output_type": "stream",
     "text": [
      "{1, 2, 3}\n"
     ]
    }
   ],
   "source": [
    "print(b)"
   ]
  },
  {
   "cell_type": "code",
   "execution_count": 121,
   "id": "870aa9ac-8859-41a4-84d8-2ed2e397cbe5",
   "metadata": {},
   "outputs": [
    {
     "name": "stdout",
     "output_type": "stream",
     "text": [
      "{1, 2, 3, 4, 5}\n"
     ]
    }
   ],
   "source": [
    "#Que 19. Union of [1,2,3} and {3,4,5}?\n",
    "a = {1,2,3}\n",
    "b = {3,4,5}\n",
    "print(a.union(b))"
   ]
  },
  {
   "cell_type": "code",
   "execution_count": 122,
   "id": "4f8e08fb-7529-4743-98fc-93c04cf20b13",
   "metadata": {},
   "outputs": [
    {
     "name": "stdout",
     "output_type": "stream",
     "text": [
      "{2, 3}\n"
     ]
    }
   ],
   "source": [
    "#Que 20. Intersection of {1,2,3} and {2,3,4}?\n",
    "a = {1,2,3}\n",
    "b = {2,3,4}\n",
    "print(a.intersection(b))"
   ]
  },
  {
   "cell_type": "code",
   "execution_count": 123,
   "id": "d7c28c01-9af3-49e8-a8d1-b4cbb2e40a28",
   "metadata": {},
   "outputs": [
    {
     "name": "stdout",
     "output_type": "stream",
     "text": [
      "{'name': 'sujeet', 'age': 20, 'city': 'jabalpur'}\n"
     ]
    }
   ],
   "source": [
    "#Que 21. Create dictionary with keys 'name','age','city'?\n",
    "file = {\"name\":\"sujeet\",\"age\":20,\"city\":\"jabalpur\"}\n",
    "print(file)"
   ]
  },
  {
   "cell_type": "code",
   "execution_count": 124,
   "id": "5614cd37-0289-405d-92ea-77d684d643be",
   "metadata": {},
   "outputs": [
    {
     "name": "stdout",
     "output_type": "stream",
     "text": [
      "{'name': 'john', 'age': 25, 'country': 'USA'}\n"
     ]
    }
   ],
   "source": [
    "#Que 22. Add'country':'USA' to {'name':'john','age':25}?\n",
    "customer1 = {\"name\":\"john\",\"age\":25}\n",
    "customer1[\"country\"] = \"USA\"\n",
    "print(customer1)"
   ]
  },
  {
   "cell_type": "code",
   "execution_count": 125,
   "id": "eaf7e38f-d206-4498-8d30-6e96b22fffe1",
   "metadata": {},
   "outputs": [
    {
     "name": "stdout",
     "output_type": "stream",
     "text": [
      "Alice\n"
     ]
    }
   ],
   "source": [
    "#Que 23. Access 'name' in {'name':'Alice','age':30}?\n",
    "cus2 = {\"name\":\"Alice\",\"age\":25}\n",
    "print(cus2[\"name\"])"
   ]
  },
  {
   "cell_type": "code",
   "execution_count": 126,
   "id": "443ab13c-f5d0-4e17-bba7-fd0036abed51",
   "metadata": {},
   "outputs": [
    {
     "name": "stdout",
     "output_type": "stream",
     "text": [
      "{'name': 'Bob', 'city': 'NEW YORK'}\n"
     ]
    }
   ],
   "source": [
    "#Que 24. Remove 'age' from {'name':'Bob','age':22,'city':'NEW YORK'}?\n",
    "cus3 = {\"name\":\"Bob\",\"age\":22,\"city\":\"NEW YORK\"}\n",
    "del cus3[\"age\"]\n",
    "print(cus3)"
   ]
  },
  {
   "cell_type": "code",
   "execution_count": 89,
   "id": "e3522f88-6f58-42b1-af15-2d3e151f6263",
   "metadata": {},
   "outputs": [
    {
     "data": {
      "text/plain": [
       "True"
      ]
     },
     "execution_count": 89,
     "metadata": {},
     "output_type": "execute_result"
    }
   ],
   "source": [
    "#Que 25.Check if 'city' exists in {'name':'Alice','city':'paris'}\n",
    "d = {\"name\":\"Alice\",\"city\":\"paris\"}\n",
    "\"city\" in d"
   ]
  },
  {
   "cell_type": "code",
   "execution_count": 94,
   "id": "8d973313-cafb-40a1-889e-76095dbb127e",
   "metadata": {},
   "outputs": [
    {
     "name": "stdout",
     "output_type": "stream",
     "text": [
      "[1, 2, 3] (4, 5, 6) {'a': 1, 'b': 2}\n"
     ]
    }
   ],
   "source": [
    "#Que 26. Create and print list,tuple,and dictionary\n",
    "lst = [1,2,3]\n",
    "tup = (4,5,6)\n",
    "dic = {\"a\":1,\"b\":2}\n",
    "print(lst,tup,dic)"
   ]
  },
  {
   "cell_type": "code",
   "execution_count": 106,
   "id": "674d0120-f57f-4441-a716-490816e1d941",
   "metadata": {},
   "outputs": [
    {
     "name": "stdout",
     "output_type": "stream",
     "text": [
      "[7, 22, 23, 57, 75]\n"
     ]
    }
   ],
   "source": [
    "#Que 27. Generate and sort 5 random numbers from 1 to 100?\n",
    "import random\n",
    "lst = [random.randint(1,100) for _ in range(5)]\n",
    "lst.sort()\n",
    "print(lst)"
   ]
  },
  {
   "cell_type": "code",
   "execution_count": 100,
   "id": "27ef64b8-6a1a-4a6c-9ed9-59b9c0f5811b",
   "metadata": {},
   "outputs": [
    {
     "name": "stdout",
     "output_type": "stream",
     "text": [
      "four\n"
     ]
    }
   ],
   "source": [
    "#Que 28.print element at index 3 from list of strings?\n",
    "A = (\"one\",\"two\",\"three\",\"four\",\"five\")\n",
    "print(A[3])"
   ]
  },
  {
   "cell_type": "code",
   "execution_count": 104,
   "id": "f76b651b-54b0-4025-99e3-615a686f877b",
   "metadata": {},
   "outputs": [
    {
     "name": "stdout",
     "output_type": "stream",
     "text": [
      "{'name': 'sujeet', 'surname': 'yadav'}\n"
     ]
    }
   ],
   "source": [
    "#Que 29. Combine two dictinories?\n",
    "d1 = {\"name\":\"sujeet\"}\n",
    "d2 = {\"surname\":\"yadav\"}\n",
    "d1.update(d2)\n",
    "print(d1)\n",
    "    "
   ]
  },
  {
   "cell_type": "code",
   "execution_count": 105,
   "id": "6d0786ec-f201-440a-a192-44ca8142d722",
   "metadata": {},
   "outputs": [
    {
     "name": "stdout",
     "output_type": "stream",
     "text": [
      "{'a', 'b', 'c'}\n"
     ]
    }
   ],
   "source": [
    "#Que 30. Convert a list of strings to a set?\n",
    "lst = [\"a\",\"b\",\"c\",\"a\"]\n",
    "s = set(lst)\n",
    "print(s)"
   ]
  }
 ],
 "metadata": {
  "kernelspec": {
   "display_name": "Python 3 (ipykernel)",
   "language": "python",
   "name": "python3"
  },
  "language_info": {
   "codemirror_mode": {
    "name": "ipython",
    "version": 3
   },
   "file_extension": ".py",
   "mimetype": "text/x-python",
   "name": "python",
   "nbconvert_exporter": "python",
   "pygments_lexer": "ipython3",
   "version": "3.13.5"
  }
 },
 "nbformat": 4,
 "nbformat_minor": 5
}
